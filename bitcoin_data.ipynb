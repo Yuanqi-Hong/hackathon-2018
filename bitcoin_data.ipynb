{
 "cells": [
  {
   "cell_type": "code",
   "execution_count": 27,
   "metadata": {},
   "outputs": [],
   "source": [
    "import numpy as np\n",
    "import pandas as pd\n",
    "import matplotlib.pyplot as plt\n",
    "from cycler import cycler"
   ]
  },
  {
   "cell_type": "code",
   "execution_count": 2,
   "metadata": {},
   "outputs": [],
   "source": [
    "df = pd.read_csv('Qu CDSS Data/btc_usd.csv')"
   ]
  },
  {
   "cell_type": "code",
   "execution_count": 3,
   "metadata": {},
   "outputs": [
    {
     "data": {
      "text/html": [
       "<div>\n",
       "<style scoped>\n",
       "    .dataframe tbody tr th:only-of-type {\n",
       "        vertical-align: middle;\n",
       "    }\n",
       "\n",
       "    .dataframe tbody tr th {\n",
       "        vertical-align: top;\n",
       "    }\n",
       "\n",
       "    .dataframe thead th {\n",
       "        text-align: right;\n",
       "    }\n",
       "</style>\n",
       "<table border=\"1\" class=\"dataframe\">\n",
       "  <thead>\n",
       "    <tr style=\"text-align: right;\">\n",
       "      <th></th>\n",
       "      <th>Unnamed: 0</th>\n",
       "      <th>id</th>\n",
       "      <th>datetime</th>\n",
       "      <th>type</th>\n",
       "      <th>quantity</th>\n",
       "      <th>price</th>\n",
       "      <th>total</th>\n",
       "    </tr>\n",
       "  </thead>\n",
       "  <tbody>\n",
       "    <tr>\n",
       "      <th>0</th>\n",
       "      <td>0</td>\n",
       "      <td>148668314</td>\n",
       "      <td>2018-01-01 00:00:01</td>\n",
       "      <td>sell</td>\n",
       "      <td>0.100000</td>\n",
       "      <td>13763.0</td>\n",
       "      <td>1376.300000</td>\n",
       "    </tr>\n",
       "    <tr>\n",
       "      <th>1</th>\n",
       "      <td>1</td>\n",
       "      <td>148668317</td>\n",
       "      <td>2018-01-01 00:00:01</td>\n",
       "      <td>buy</td>\n",
       "      <td>0.010000</td>\n",
       "      <td>13766.0</td>\n",
       "      <td>137.660000</td>\n",
       "    </tr>\n",
       "    <tr>\n",
       "      <th>2</th>\n",
       "      <td>2</td>\n",
       "      <td>148668334</td>\n",
       "      <td>2018-01-01 00:00:02</td>\n",
       "      <td>buy</td>\n",
       "      <td>0.105929</td>\n",
       "      <td>13767.0</td>\n",
       "      <td>1458.325094</td>\n",
       "    </tr>\n",
       "    <tr>\n",
       "      <th>3</th>\n",
       "      <td>3</td>\n",
       "      <td>148668333</td>\n",
       "      <td>2018-01-01 00:00:02</td>\n",
       "      <td>buy</td>\n",
       "      <td>0.244811</td>\n",
       "      <td>13766.0</td>\n",
       "      <td>3370.068777</td>\n",
       "    </tr>\n",
       "    <tr>\n",
       "      <th>4</th>\n",
       "      <td>4</td>\n",
       "      <td>148668332</td>\n",
       "      <td>2018-01-01 00:00:02</td>\n",
       "      <td>buy</td>\n",
       "      <td>0.025234</td>\n",
       "      <td>13766.0</td>\n",
       "      <td>347.375374</td>\n",
       "    </tr>\n",
       "  </tbody>\n",
       "</table>\n",
       "</div>"
      ],
      "text/plain": [
       "   Unnamed: 0         id             datetime  type  quantity    price  \\\n",
       "0           0  148668314  2018-01-01 00:00:01  sell  0.100000  13763.0   \n",
       "1           1  148668317  2018-01-01 00:00:01   buy  0.010000  13766.0   \n",
       "2           2  148668334  2018-01-01 00:00:02   buy  0.105929  13767.0   \n",
       "3           3  148668333  2018-01-01 00:00:02   buy  0.244811  13766.0   \n",
       "4           4  148668332  2018-01-01 00:00:02   buy  0.025234  13766.0   \n",
       "\n",
       "         total  \n",
       "0  1376.300000  \n",
       "1   137.660000  \n",
       "2  1458.325094  \n",
       "3  3370.068777  \n",
       "4   347.375374  "
      ]
     },
     "execution_count": 3,
     "metadata": {},
     "output_type": "execute_result"
    }
   ],
   "source": [
    "df.head()"
   ]
  },
  {
   "cell_type": "code",
   "execution_count": 4,
   "metadata": {},
   "outputs": [],
   "source": [
    "df['datetime_converted'] = pd.to_datetime(df['datetime'], format=\"%Y-%m-%d %H:%M:%S\")"
   ]
  },
  {
   "cell_type": "code",
   "execution_count": 5,
   "metadata": {},
   "outputs": [
    {
     "data": {
      "text/html": [
       "<div>\n",
       "<style scoped>\n",
       "    .dataframe tbody tr th:only-of-type {\n",
       "        vertical-align: middle;\n",
       "    }\n",
       "\n",
       "    .dataframe tbody tr th {\n",
       "        vertical-align: top;\n",
       "    }\n",
       "\n",
       "    .dataframe thead th {\n",
       "        text-align: right;\n",
       "    }\n",
       "</style>\n",
       "<table border=\"1\" class=\"dataframe\">\n",
       "  <thead>\n",
       "    <tr style=\"text-align: right;\">\n",
       "      <th></th>\n",
       "      <th>Unnamed: 0</th>\n",
       "      <th>id</th>\n",
       "      <th>datetime</th>\n",
       "      <th>type</th>\n",
       "      <th>quantity</th>\n",
       "      <th>price</th>\n",
       "      <th>total</th>\n",
       "      <th>datetime_converted</th>\n",
       "    </tr>\n",
       "  </thead>\n",
       "  <tbody>\n",
       "    <tr>\n",
       "      <th>0</th>\n",
       "      <td>0</td>\n",
       "      <td>148668314</td>\n",
       "      <td>2018-01-01 00:00:01</td>\n",
       "      <td>sell</td>\n",
       "      <td>0.100000</td>\n",
       "      <td>13763.0</td>\n",
       "      <td>1376.300000</td>\n",
       "      <td>2018-01-01 00:00:01</td>\n",
       "    </tr>\n",
       "    <tr>\n",
       "      <th>1</th>\n",
       "      <td>1</td>\n",
       "      <td>148668317</td>\n",
       "      <td>2018-01-01 00:00:01</td>\n",
       "      <td>buy</td>\n",
       "      <td>0.010000</td>\n",
       "      <td>13766.0</td>\n",
       "      <td>137.660000</td>\n",
       "      <td>2018-01-01 00:00:01</td>\n",
       "    </tr>\n",
       "    <tr>\n",
       "      <th>2</th>\n",
       "      <td>2</td>\n",
       "      <td>148668334</td>\n",
       "      <td>2018-01-01 00:00:02</td>\n",
       "      <td>buy</td>\n",
       "      <td>0.105929</td>\n",
       "      <td>13767.0</td>\n",
       "      <td>1458.325094</td>\n",
       "      <td>2018-01-01 00:00:02</td>\n",
       "    </tr>\n",
       "    <tr>\n",
       "      <th>3</th>\n",
       "      <td>3</td>\n",
       "      <td>148668333</td>\n",
       "      <td>2018-01-01 00:00:02</td>\n",
       "      <td>buy</td>\n",
       "      <td>0.244811</td>\n",
       "      <td>13766.0</td>\n",
       "      <td>3370.068777</td>\n",
       "      <td>2018-01-01 00:00:02</td>\n",
       "    </tr>\n",
       "    <tr>\n",
       "      <th>4</th>\n",
       "      <td>4</td>\n",
       "      <td>148668332</td>\n",
       "      <td>2018-01-01 00:00:02</td>\n",
       "      <td>buy</td>\n",
       "      <td>0.025234</td>\n",
       "      <td>13766.0</td>\n",
       "      <td>347.375374</td>\n",
       "      <td>2018-01-01 00:00:02</td>\n",
       "    </tr>\n",
       "  </tbody>\n",
       "</table>\n",
       "</div>"
      ],
      "text/plain": [
       "   Unnamed: 0         id             datetime  type  quantity    price  \\\n",
       "0           0  148668314  2018-01-01 00:00:01  sell  0.100000  13763.0   \n",
       "1           1  148668317  2018-01-01 00:00:01   buy  0.010000  13766.0   \n",
       "2           2  148668334  2018-01-01 00:00:02   buy  0.105929  13767.0   \n",
       "3           3  148668333  2018-01-01 00:00:02   buy  0.244811  13766.0   \n",
       "4           4  148668332  2018-01-01 00:00:02   buy  0.025234  13766.0   \n",
       "\n",
       "         total  datetime_converted  \n",
       "0  1376.300000 2018-01-01 00:00:01  \n",
       "1   137.660000 2018-01-01 00:00:01  \n",
       "2  1458.325094 2018-01-01 00:00:02  \n",
       "3  3370.068777 2018-01-01 00:00:02  \n",
       "4   347.375374 2018-01-01 00:00:02  "
      ]
     },
     "execution_count": 5,
     "metadata": {},
     "output_type": "execute_result"
    }
   ],
   "source": [
    "df.head()"
   ]
  },
  {
   "cell_type": "code",
   "execution_count": 6,
   "metadata": {},
   "outputs": [
    {
     "data": {
      "text/plain": [
       "(10949456, 8)"
      ]
     },
     "execution_count": 6,
     "metadata": {},
     "output_type": "execute_result"
    }
   ],
   "source": [
    "df.shape"
   ]
  },
  {
   "cell_type": "code",
   "execution_count": 7,
   "metadata": {},
   "outputs": [
    {
     "data": {
      "text/plain": [
       "Unnamed: 0                     int64\n",
       "id                             int64\n",
       "datetime                      object\n",
       "type                          object\n",
       "quantity                     float64\n",
       "price                        float64\n",
       "total                        float64\n",
       "datetime_converted    datetime64[ns]\n",
       "dtype: object"
      ]
     },
     "execution_count": 7,
     "metadata": {},
     "output_type": "execute_result"
    }
   ],
   "source": [
    "df.dtypes"
   ]
  },
  {
   "cell_type": "code",
   "execution_count": 55,
   "metadata": {},
   "outputs": [],
   "source": [
    "plt.rcdefaults()\n",
    "plt.rcParams.update({\n",
    "    'text.color': '#ffffff',\n",
    "    'lines.linewidth': 1,\n",
    "    'lines.solid_capstyle': 'butt',\n",
    "    'legend.fancybox': True,\n",
    "    'axes.prop_cycle': cycler('color', ['#EC407A','#BBDEFB','#00E676','#90CAF9','#64B5F6','#42A5F5','#2196F3','#1DE9B6']),\n",
    "    'axes.facecolor': '#222222',\n",
    "    'axes.labelsize': 'large',\n",
    "    'axes.labelcolor': 'white',\n",
    "    'axes.axisbelow': True,\n",
    "    'axes.grid': False,\n",
    "    'axes.edgecolor': '#ffffff',\n",
    "    'axes.linewidth': 1,\n",
    "    'axes.titlesize': 'x-large',\n",
    "    'patch.edgecolor': '#222222',\n",
    "    'patch.linewidth': 0.5,\n",
    "    'grid.linestyle': '-',\n",
    "    'grid.linewidth': 1.0,\n",
    "    'grid.color': '#cbcbcb',\n",
    "    'xtick.major.size': 3,\n",
    "    'xtick.minor.size': 0,\n",
    "    'xtick.color': '#ffffff',\n",
    "    'ytick.major.size': 3,\n",
    "    'ytick.minor.size': 0,\n",
    "    'ytick.color': '#ffffff',\n",
    "    'font.size': 10.0,\n",
    "    'savefig.edgecolor': '#222222',\n",
    "    'savefig.facecolor': '#222222',\n",
    "    'figure.subplot.left': 0.08,\n",
    "    'figure.subplot.right': 0.95,\n",
    "    'figure.subplot.bottom': 0.07,\n",
    "    'figure.facecolor': '#222222',\n",
    "    'ps.fonttype' : 42,\n",
    "    'pdf.fonttype' : 42\n",
    "})"
   ]
  },
  {
   "cell_type": "code",
   "execution_count": 56,
   "metadata": {},
   "outputs": [
    {
     "data": {
      "image/png": "[encoded data removed]",
      "text/plain": [
       "<Figure size 640x480 with 1 Axes>"
      ]
     },
     "metadata": {},
     "output_type": "display_data"
    }
   ],
   "source": [
    "ax = df.plot(x='datetime_converted', y='price')\n",
    "plt.savefig(\"graph.pdf\")"
   ]
  },
  {
   "cell_type": "code",
   "execution_count": null,
   "metadata": {},
   "outputs": [],
   "source": []
  },
  {
   "cell_type": "code",
   "execution_count": null,
   "metadata": {},
   "outputs": [],
   "source": []
  },
  {
   "cell_type": "code",
   "execution_count": 9,
   "metadata": {},
   "outputs": [
    {
     "data": {
      "text/plain": [
       "sell    5692898\n",
       "buy     5256558\n",
       "Name: type, dtype: int64"
      ]
     },
     "execution_count": 9,
     "metadata": {},
     "output_type": "execute_result"
    }
   ],
   "source": [
    "df['type'].value_counts()"
   ]
  },
  {
   "cell_type": "code",
   "execution_count": 14,
   "metadata": {},
   "outputs": [],
   "source": [
    "df.drop(df.columns[0],axis=1,inplace=True)"
   ]
  },
  {
   "cell_type": "code",
   "execution_count": 22,
   "metadata": {},
   "outputs": [],
   "source": [
    "df = df.drop('datetime',axis=1)"
   ]
  },
  {
   "cell_type": "code",
   "execution_count": 23,
   "metadata": {},
   "outputs": [
    {
     "data": {
      "text/html": [
       "<div>\n",
       "<style scoped>\n",
       "    .dataframe tbody tr th:only-of-type {\n",
       "        vertical-align: middle;\n",
       "    }\n",
       "\n",
       "    .dataframe tbody tr th {\n",
       "        vertical-align: top;\n",
       "    }\n",
       "\n",
       "    .dataframe thead th {\n",
       "        text-align: right;\n",
       "    }\n",
       "</style>\n",
       "<table border=\"1\" class=\"dataframe\">\n",
       "  <thead>\n",
       "    <tr style=\"text-align: right;\">\n",
       "      <th></th>\n",
       "      <th>type</th>\n",
       "      <th>quantity</th>\n",
       "      <th>price</th>\n",
       "      <th>total</th>\n",
       "      <th>datetime_converted</th>\n",
       "    </tr>\n",
       "  </thead>\n",
       "  <tbody>\n",
       "    <tr>\n",
       "      <th>0</th>\n",
       "      <td>sell</td>\n",
       "      <td>0.100000</td>\n",
       "      <td>13763.0</td>\n",
       "      <td>1376.300000</td>\n",
       "      <td>2018-01-01 00:00:01</td>\n",
       "    </tr>\n",
       "    <tr>\n",
       "      <th>1</th>\n",
       "      <td>buy</td>\n",
       "      <td>0.010000</td>\n",
       "      <td>13766.0</td>\n",
       "      <td>137.660000</td>\n",
       "      <td>2018-01-01 00:00:01</td>\n",
       "    </tr>\n",
       "    <tr>\n",
       "      <th>2</th>\n",
       "      <td>buy</td>\n",
       "      <td>0.105929</td>\n",
       "      <td>13767.0</td>\n",
       "      <td>1458.325094</td>\n",
       "      <td>2018-01-01 00:00:02</td>\n",
       "    </tr>\n",
       "  </tbody>\n",
       "</table>\n",
       "</div>"
      ],
      "text/plain": [
       "   type  quantity    price        total  datetime_converted\n",
       "0  sell  0.100000  13763.0  1376.300000 2018-01-01 00:00:01\n",
       "1   buy  0.010000  13766.0   137.660000 2018-01-01 00:00:01\n",
       "2   buy  0.105929  13767.0  1458.325094 2018-01-01 00:00:02"
      ]
     },
     "execution_count": 23,
     "metadata": {},
     "output_type": "execute_result"
    }
   ],
   "source": [
    "df.head(3)"
   ]
  },
  {
   "cell_type": "code",
   "execution_count": 25,
   "metadata": {},
   "outputs": [
    {
     "data": {
      "text/html": [
       "<div>\n",
       "<style scoped>\n",
       "    .dataframe tbody tr th:only-of-type {\n",
       "        vertical-align: middle;\n",
       "    }\n",
       "\n",
       "    .dataframe tbody tr th {\n",
       "        vertical-align: top;\n",
       "    }\n",
       "\n",
       "    .dataframe thead th {\n",
       "        text-align: right;\n",
       "    }\n",
       "</style>\n",
       "<table border=\"1\" class=\"dataframe\">\n",
       "  <thead>\n",
       "    <tr style=\"text-align: right;\">\n",
       "      <th></th>\n",
       "      <th>type</th>\n",
       "      <th>quantity</th>\n",
       "      <th>price</th>\n",
       "      <th>total</th>\n",
       "      <th>datetime_converted</th>\n",
       "    </tr>\n",
       "  </thead>\n",
       "  <tbody>\n",
       "    <tr>\n",
       "      <th>10949453</th>\n",
       "      <td>buy</td>\n",
       "      <td>0.002000</td>\n",
       "      <td>6975.6</td>\n",
       "      <td>13.951200</td>\n",
       "      <td>2018-03-31 00:15:00</td>\n",
       "    </tr>\n",
       "    <tr>\n",
       "      <th>10949454</th>\n",
       "      <td>sell</td>\n",
       "      <td>0.394952</td>\n",
       "      <td>6975.1</td>\n",
       "      <td>2754.830532</td>\n",
       "      <td>2018-03-31 00:15:00</td>\n",
       "    </tr>\n",
       "    <tr>\n",
       "      <th>10949455</th>\n",
       "      <td>sell</td>\n",
       "      <td>0.805048</td>\n",
       "      <td>6975.5</td>\n",
       "      <td>5615.611487</td>\n",
       "      <td>2018-03-31 00:15:00</td>\n",
       "    </tr>\n",
       "  </tbody>\n",
       "</table>\n",
       "</div>"
      ],
      "text/plain": [
       "          type  quantity   price        total  datetime_converted\n",
       "10949453   buy  0.002000  6975.6    13.951200 2018-03-31 00:15:00\n",
       "10949454  sell  0.394952  6975.1  2754.830532 2018-03-31 00:15:00\n",
       "10949455  sell  0.805048  6975.5  5615.611487 2018-03-31 00:15:00"
      ]
     },
     "execution_count": 25,
     "metadata": {},
     "output_type": "execute_result"
    }
   ],
   "source": [
    "df.tail(3)"
   ]
  },
  {
   "cell_type": "code",
   "execution_count": null,
   "metadata": {},
   "outputs": [],
   "source": []
  }
 ],
 "metadata": {
  "kernelspec": {
   "display_name": "Python 3",
   "language": "python",
   "name": "python3"
  },
  "language_info": {
   "codemirror_mode": {
    "name": "ipython",
    "version": 3
   },
   "file_extension": ".py",
   "mimetype": "text/x-python",
   "name": "python",
   "nbconvert_exporter": "python",
   "pygments_lexer": "ipython3",
   "version": "3.6.5"
  }
 },
 "nbformat": 4,
 "nbformat_minor": 2
}
